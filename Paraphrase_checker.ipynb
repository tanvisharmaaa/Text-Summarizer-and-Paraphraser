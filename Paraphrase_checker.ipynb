{
 "cells": [
  {
   "cell_type": "code",
   "execution_count": 1,
   "metadata": {},
   "outputs": [
    {
     "name": "stdout",
     "output_type": "stream",
     "text": [
      "Sentence 1: Significance tests generally compare the value of the population parameter in the null ypothesis to the value of the estimate from the sample.\n",
      "Sentence 2: Significance tests typically compare the population parameter value in the null hypothesis with the estimated value derived from the sample.\n",
      "Prediction: paraphrase\n",
      "Probability of 'not a paraphrase': 0.1064\n",
      "Probability of 'paraphrase': 0.8936\n"
     ]
    }
   ],
   "source": [
    "from transformers import BertTokenizer, BertForSequenceClassification\n",
    "import torch\n",
    "\n",
    "model_path = 'results\\checkpoint-1000'\n",
    "model = BertForSequenceClassification.from_pretrained(model_path)\n",
    "tokenizer = BertTokenizer.from_pretrained('bert-base-uncased')\n",
    "model.eval()\n",
    "\n",
    "def predict_paraphrase(sentence1, sentence2):\n",
    "\n",
    "    inputs = tokenizer.encode_plus(\n",
    "        sentence1,\n",
    "        sentence2,\n",
    "        add_special_tokens=True,\n",
    "        max_length=512,\n",
    "        padding='max_length',\n",
    "        return_attention_mask=True,\n",
    "        return_tensors='pt',\n",
    "    )\n",
    "\n",
    "    input_ids = inputs['input_ids'].to(model.device)\n",
    "    attention_mask = inputs['attention_mask'].to(model.device)\n",
    "\n",
    "    with torch.no_grad():\n",
    "        outputs = model(input_ids, attention_mask=attention_mask)\n",
    "\n",
    "    probabilities = torch.nn.functional.softmax(outputs.logits, dim=-1)\n",
    "    prediction = torch.argmax(probabilities, dim=-1).cpu().numpy()[0]\n",
    "    paraphrase_mapping = {0: 'not a paraphrase', 1: 'paraphrase'}\n",
    "    predicted_paraphrase = paraphrase_mapping[prediction]\n",
    "\n",
    "    print(f\"Sentence 1: {sentence1}\")\n",
    "    print(f\"Sentence 2: {sentence2}\")\n",
    "    print(f\"Prediction: {predicted_paraphrase}\")\n",
    "    print(f\"Probability of 'not a paraphrase': {probabilities[0][0].item():.4f}\")\n",
    "    print(f\"Probability of 'paraphrase': {probabilities[0][1].item():.4f}\")\n",
    "\n",
    "    return predicted_paraphrase, probabilities.cpu().numpy()\n",
    "\n",
    "sentence1 = \"Apple was founded as Apple Computer Company on April 1, 1976, to produce and market Steve Wozniak's Apple I personal computer. The company was incorporated by Wozniak and Steve Jobs in 1977. Its second computer, the Apple II, became a best seller as one of the first mass-produced microcomputers. Apple introduced the Lisa in 1983 and the Macintosh in 1984, as some of the first computers to use a graphical user interface and a mouse. By 1985, the company's internal problems included the high cost of its products and power struggles between executives. That year Jobs left Apple to form NeXT, Inc., and Wozniak withdrew to other ventures. The market for personal computers expanded and evolved throughout the 1990s, and Apple lost considerable market share to the lower-priced Wintel duopoly of the Microsoft Windows operating system on Intel-powered PC clones.\"\n",
    "sentence2 = \"Apple was established as the Apple Computer Company on April 1, 1976, with the aim of producing and marketing Steve Wozniak's Apple I personal computer. Wozniak and Steve Jobs incorporated the company in 1977, and its second computer, the Apple II, became a bestseller, marking one of the earliest mass-produced microcomputers. Apple introduced the Lisa in 1983 and the Macintosh in 1984, pioneering the use of a graphical user interface and mouse in computing. By 1985, internal struggles plagued Apple, including the high cost of its products and power struggles among executives. That year, Jobs left Apple to establish NeXT, Inc., while Wozniak ventured into other projects. Throughout the 1990s, the personal computer market expanded and evolved, with Apple losing significant market share to the Wintel duopoly, comprising Microsoft Windows on Intel-powered PC clones.\"\n",
    "predicted_paraphrase, probabilities = predict_paraphrase(sentence1, sentence2)"
   ]
  }
 ],
 "metadata": {
  "kernelspec": {
   "display_name": "Python 3",
   "language": "python",
   "name": "python3"
  },
  "language_info": {
   "codemirror_mode": {
    "name": "ipython",
    "version": 3
   },
   "file_extension": ".py",
   "mimetype": "text/x-python",
   "name": "python",
   "nbconvert_exporter": "python",
   "pygments_lexer": "ipython3",
   "version": "3.11.0"
  }
 },
 "nbformat": 4,
 "nbformat_minor": 2
}
