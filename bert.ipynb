{
 "cells": [
  {
   "cell_type": "code",
   "execution_count": 10,
   "metadata": {},
   "outputs": [
    {
     "data": {
      "application/vnd.jupyter.widget-view+json": {
       "model_id": "440b2229df764c5f824d26d2a6ac9dfc",
       "version_major": 2,
       "version_minor": 0
      },
      "text/plain": [
       "Downloading readme:   0%|          | 0.00/35.3k [00:00<?, ?B/s]"
      ]
     },
     "metadata": {},
     "output_type": "display_data"
    },
    {
     "data": {
      "application/vnd.jupyter.widget-view+json": {
       "model_id": "4fb55c666af942fbb7c2d6fed55e7943",
       "version_major": 2,
       "version_minor": 0
      },
      "text/plain": [
       "Downloading data:   0%|          | 0.00/649k [00:00<?, ?B/s]"
      ]
     },
     "metadata": {},
     "output_type": "display_data"
    },
    {
     "data": {
      "application/vnd.jupyter.widget-view+json": {
       "model_id": "2ac43c86c0d74b5eaf0d96099199965e",
       "version_major": 2,
       "version_minor": 0
      },
      "text/plain": [
       "Downloading data:   0%|          | 0.00/75.7k [00:00<?, ?B/s]"
      ]
     },
     "metadata": {},
     "output_type": "display_data"
    },
    {
     "data": {
      "application/vnd.jupyter.widget-view+json": {
       "model_id": "f7d6726a5f8341a7aaf243de79f0643a",
       "version_major": 2,
       "version_minor": 0
      },
      "text/plain": [
       "Downloading data:   0%|          | 0.00/308k [00:00<?, ?B/s]"
      ]
     },
     "metadata": {},
     "output_type": "display_data"
    },
    {
     "data": {
      "application/vnd.jupyter.widget-view+json": {
       "model_id": "c97ba97b5e7e4c58b003dc7db0803ee0",
       "version_major": 2,
       "version_minor": 0
      },
      "text/plain": [
       "Generating train split:   0%|          | 0/3668 [00:00<?, ? examples/s]"
      ]
     },
     "metadata": {},
     "output_type": "display_data"
    },
    {
     "data": {
      "application/vnd.jupyter.widget-view+json": {
       "model_id": "98e571db675541c18a36b026f2b42ef0",
       "version_major": 2,
       "version_minor": 0
      },
      "text/plain": [
       "Generating validation split:   0%|          | 0/408 [00:00<?, ? examples/s]"
      ]
     },
     "metadata": {},
     "output_type": "display_data"
    },
    {
     "data": {
      "application/vnd.jupyter.widget-view+json": {
       "model_id": "4125baca48414c1b89f3c4160ef85ef4",
       "version_major": 2,
       "version_minor": 0
      },
      "text/plain": [
       "Generating test split:   0%|          | 0/1725 [00:00<?, ? examples/s]"
      ]
     },
     "metadata": {},
     "output_type": "display_data"
    },
    {
     "data": {
      "application/vnd.jupyter.widget-view+json": {
       "model_id": "ec5e6c64145241cf87b7bce2c27878fd",
       "version_major": 2,
       "version_minor": 0
      },
      "text/plain": [
       "Map:   0%|          | 0/3668 [00:00<?, ? examples/s]"
      ]
     },
     "metadata": {},
     "output_type": "display_data"
    },
    {
     "data": {
      "application/vnd.jupyter.widget-view+json": {
       "model_id": "4fdffa1a047240e090c0068676db0e67",
       "version_major": 2,
       "version_minor": 0
      },
      "text/plain": [
       "Map:   0%|          | 0/408 [00:00<?, ? examples/s]"
      ]
     },
     "metadata": {},
     "output_type": "display_data"
    },
    {
     "data": {
      "application/vnd.jupyter.widget-view+json": {
       "model_id": "3e8e0b0599b74b329a636088cd45a9a1",
       "version_major": 2,
       "version_minor": 0
      },
      "text/plain": [
       "Map:   0%|          | 0/1725 [00:00<?, ? examples/s]"
      ]
     },
     "metadata": {},
     "output_type": "display_data"
    }
   ],
   "source": [
    "from datasets import load_dataset\n",
    "from transformers import BertTokenizer\n",
    "\n",
    "# Assuming you're using a dataset that has a clear label and text structure\n",
    "dataset = load_dataset(\"glue\", \"mrpc\")  # Example dataset from Hugging Face\n",
    "tokenizer = BertTokenizer.from_pretrained('bert-base-uncased')\n",
    "\n",
    "def tokenize_function(examples):\n",
    "    # This assumes your dataset has text in 'sentence1' and 'sentence2' fields\n",
    "    return tokenizer(examples['sentence1'], examples['sentence2'], padding=\"max_length\", truncation=True, max_length=512)\n",
    "\n",
    "# Apply tokenizer\n",
    "dataset = dataset.map(tokenize_function, batched=True)\n"
   ]
  },
  {
   "cell_type": "code",
   "execution_count": 11,
   "metadata": {},
   "outputs": [
    {
     "name": "stderr",
     "output_type": "stream",
     "text": [
      "Some weights of BertForSequenceClassification were not initialized from the model checkpoint at bert-base-uncased and are newly initialized: ['classifier.bias', 'classifier.weight']\n",
      "You should probably TRAIN this model on a down-stream task to be able to use it for predictions and inference.\n"
     ]
    }
   ],
   "source": [
    "from transformers import BertForSequenceClassification\n",
    "\n",
    "# Number of labels should match your dataset's label count\n",
    "model = BertForSequenceClassification.from_pretrained('bert-base-uncased', num_labels=2)  # For binary classification\n"
   ]
  },
  {
   "cell_type": "code",
   "execution_count": 12,
   "metadata": {},
   "outputs": [
    {
     "data": {
      "application/vnd.jupyter.widget-view+json": {
       "model_id": "bc928af1e23c490d93552ddabcf39fa8",
       "version_major": 2,
       "version_minor": 0
      },
      "text/plain": [
       "  0%|          | 0/1377 [00:00<?, ?it/s]"
      ]
     },
     "metadata": {},
     "output_type": "display_data"
    },
    {
     "name": "stdout",
     "output_type": "stream",
     "text": [
      "{'loss': 0.7142, 'grad_norm': 9.401176452636719, 'learning_rate': 4.963689179375454e-05, 'epoch': 0.02}\n",
      "{'loss': 0.6641, 'grad_norm': 3.9398577213287354, 'learning_rate': 4.927378358750908e-05, 'epoch': 0.04}\n",
      "{'loss': 0.6788, 'grad_norm': 4.859483242034912, 'learning_rate': 4.891067538126362e-05, 'epoch': 0.07}\n",
      "{'loss': 0.6468, 'grad_norm': 2.0564959049224854, 'learning_rate': 4.854756717501816e-05, 'epoch': 0.09}\n",
      "{'loss': 0.6431, 'grad_norm': 1.882811188697815, 'learning_rate': 4.8184458968772694e-05, 'epoch': 0.11}\n",
      "{'loss': 0.682, 'grad_norm': 5.581890106201172, 'learning_rate': 4.7821350762527234e-05, 'epoch': 0.13}\n",
      "{'loss': 0.6835, 'grad_norm': 11.823446273803711, 'learning_rate': 4.7458242556281774e-05, 'epoch': 0.15}\n",
      "{'loss': 0.6493, 'grad_norm': 6.311870098114014, 'learning_rate': 4.709513435003631e-05, 'epoch': 0.17}\n",
      "{'loss': 0.5961, 'grad_norm': 11.150650024414062, 'learning_rate': 4.673202614379085e-05, 'epoch': 0.2}\n",
      "{'loss': 0.6786, 'grad_norm': 7.35840368270874, 'learning_rate': 4.636891793754539e-05, 'epoch': 0.22}\n",
      "{'loss': 0.649, 'grad_norm': 2.889028310775757, 'learning_rate': 4.600580973129993e-05, 'epoch': 0.24}\n",
      "{'loss': 0.618, 'grad_norm': 3.535771608352661, 'learning_rate': 4.564270152505447e-05, 'epoch': 0.26}\n",
      "{'loss': 0.4789, 'grad_norm': 4.299716949462891, 'learning_rate': 4.5279593318809005e-05, 'epoch': 0.28}\n",
      "{'loss': 0.7549, 'grad_norm': 5.00355863571167, 'learning_rate': 4.4916485112563545e-05, 'epoch': 0.31}\n",
      "{'loss': 0.6476, 'grad_norm': 3.046821117401123, 'learning_rate': 4.4553376906318085e-05, 'epoch': 0.33}\n",
      "{'loss': 0.6968, 'grad_norm': 5.193552017211914, 'learning_rate': 4.4190268700072624e-05, 'epoch': 0.35}\n",
      "{'loss': 0.6235, 'grad_norm': 1.6775566339492798, 'learning_rate': 4.3827160493827164e-05, 'epoch': 0.37}\n",
      "{'loss': 0.5994, 'grad_norm': 1.6768420934677124, 'learning_rate': 4.3464052287581704e-05, 'epoch': 0.39}\n",
      "{'loss': 0.5583, 'grad_norm': 4.600318431854248, 'learning_rate': 4.3100944081336244e-05, 'epoch': 0.41}\n",
      "{'loss': 0.5425, 'grad_norm': 9.994298934936523, 'learning_rate': 4.273783587509078e-05, 'epoch': 0.44}\n",
      "{'loss': 0.6769, 'grad_norm': 5.0276780128479, 'learning_rate': 4.2374727668845316e-05, 'epoch': 0.46}\n",
      "{'loss': 0.5592, 'grad_norm': 4.940202236175537, 'learning_rate': 4.2011619462599856e-05, 'epoch': 0.48}\n",
      "{'loss': 0.5152, 'grad_norm': 2.3261961936950684, 'learning_rate': 4.1648511256354396e-05, 'epoch': 0.5}\n",
      "{'loss': 0.55, 'grad_norm': 3.4965741634368896, 'learning_rate': 4.1285403050108935e-05, 'epoch': 0.52}\n",
      "{'loss': 0.5218, 'grad_norm': 2.841325283050537, 'learning_rate': 4.0922294843863475e-05, 'epoch': 0.54}\n",
      "{'loss': 0.4772, 'grad_norm': 3.3725461959838867, 'learning_rate': 4.0559186637618015e-05, 'epoch': 0.57}\n",
      "{'loss': 0.5246, 'grad_norm': 7.707995414733887, 'learning_rate': 4.0196078431372555e-05, 'epoch': 0.59}\n",
      "{'loss': 0.7549, 'grad_norm': 10.856608390808105, 'learning_rate': 3.9832970225127094e-05, 'epoch': 0.61}\n",
      "{'loss': 0.6626, 'grad_norm': 6.048059463500977, 'learning_rate': 3.946986201888163e-05, 'epoch': 0.63}\n",
      "{'loss': 0.6036, 'grad_norm': 13.37515640258789, 'learning_rate': 3.910675381263617e-05, 'epoch': 0.65}\n",
      "{'loss': 0.5545, 'grad_norm': 5.0207319259643555, 'learning_rate': 3.874364560639071e-05, 'epoch': 0.68}\n",
      "{'loss': 0.6605, 'grad_norm': 4.001957416534424, 'learning_rate': 3.8380537400145246e-05, 'epoch': 0.7}\n",
      "{'loss': 0.5912, 'grad_norm': 7.5204267501831055, 'learning_rate': 3.8017429193899786e-05, 'epoch': 0.72}\n",
      "{'loss': 0.6957, 'grad_norm': 4.347242832183838, 'learning_rate': 3.7654320987654326e-05, 'epoch': 0.74}\n",
      "{'loss': 0.6072, 'grad_norm': 2.572721242904663, 'learning_rate': 3.7291212781408866e-05, 'epoch': 0.76}\n",
      "{'loss': 0.6565, 'grad_norm': 3.5855464935302734, 'learning_rate': 3.6928104575163405e-05, 'epoch': 0.78}\n",
      "{'loss': 0.6698, 'grad_norm': 2.95408034324646, 'learning_rate': 3.6564996368917945e-05, 'epoch': 0.81}\n",
      "{'loss': 0.5479, 'grad_norm': 5.355257511138916, 'learning_rate': 3.620188816267248e-05, 'epoch': 0.83}\n",
      "{'loss': 0.6114, 'grad_norm': 8.48225212097168, 'learning_rate': 3.583877995642702e-05, 'epoch': 0.85}\n",
      "{'loss': 0.5933, 'grad_norm': 8.143794059753418, 'learning_rate': 3.547567175018156e-05, 'epoch': 0.87}\n",
      "{'loss': 0.5699, 'grad_norm': 44.85429000854492, 'learning_rate': 3.51125635439361e-05, 'epoch': 0.89}\n",
      "{'loss': 0.6173, 'grad_norm': 11.404769897460938, 'learning_rate': 3.474945533769064e-05, 'epoch': 0.92}\n",
      "{'loss': 0.5925, 'grad_norm': 6.62954568862915, 'learning_rate': 3.4386347131445177e-05, 'epoch': 0.94}\n",
      "{'loss': 0.613, 'grad_norm': 2.5731399059295654, 'learning_rate': 3.4023238925199716e-05, 'epoch': 0.96}\n",
      "{'loss': 0.7356, 'grad_norm': 6.465108871459961, 'learning_rate': 3.366013071895425e-05, 'epoch': 0.98}\n",
      "{'loss': 0.5672, 'grad_norm': 7.973805904388428, 'learning_rate': 3.329702251270879e-05, 'epoch': 1.0}\n",
      "{'loss': 0.5857, 'grad_norm': 9.954553604125977, 'learning_rate': 3.293391430646333e-05, 'epoch': 1.02}\n",
      "{'loss': 0.6551, 'grad_norm': 3.2546255588531494, 'learning_rate': 3.257080610021787e-05, 'epoch': 1.05}\n",
      "{'loss': 0.675, 'grad_norm': 2.245654344558716, 'learning_rate': 3.220769789397241e-05, 'epoch': 1.07}\n",
      "{'loss': 0.6164, 'grad_norm': 22.14780616760254, 'learning_rate': 3.184458968772695e-05, 'epoch': 1.09}\n",
      "{'loss': 0.5582, 'grad_norm': 10.153826713562012, 'learning_rate': 3.148148148148148e-05, 'epoch': 1.11}\n",
      "{'loss': 0.584, 'grad_norm': 13.90694808959961, 'learning_rate': 3.111837327523602e-05, 'epoch': 1.13}\n",
      "{'loss': 0.594, 'grad_norm': 9.189393997192383, 'learning_rate': 3.075526506899056e-05, 'epoch': 1.15}\n",
      "{'loss': 0.4877, 'grad_norm': 4.502951622009277, 'learning_rate': 3.0392156862745097e-05, 'epoch': 1.18}\n",
      "{'loss': 0.4871, 'grad_norm': 4.704269886016846, 'learning_rate': 3.0029048656499636e-05, 'epoch': 1.2}\n",
      "{'loss': 0.5867, 'grad_norm': 15.637723922729492, 'learning_rate': 2.9665940450254176e-05, 'epoch': 1.22}\n",
      "{'loss': 0.5431, 'grad_norm': 4.32886266708374, 'learning_rate': 2.9302832244008716e-05, 'epoch': 1.24}\n",
      "{'loss': 0.4942, 'grad_norm': 10.542356491088867, 'learning_rate': 2.8939724037763255e-05, 'epoch': 1.26}\n",
      "{'loss': 0.4573, 'grad_norm': 8.868324279785156, 'learning_rate': 2.8576615831517795e-05, 'epoch': 1.29}\n",
      "{'loss': 0.4591, 'grad_norm': 18.10159683227539, 'learning_rate': 2.8213507625272335e-05, 'epoch': 1.31}\n",
      "{'loss': 0.4765, 'grad_norm': 6.408679962158203, 'learning_rate': 2.7850399419026875e-05, 'epoch': 1.33}\n",
      "{'loss': 0.4732, 'grad_norm': 44.84541702270508, 'learning_rate': 2.7487291212781407e-05, 'epoch': 1.35}\n",
      "{'loss': 0.4333, 'grad_norm': 28.643836975097656, 'learning_rate': 2.7124183006535947e-05, 'epoch': 1.37}\n",
      "{'loss': 0.6253, 'grad_norm': 4.886213302612305, 'learning_rate': 2.6761074800290487e-05, 'epoch': 1.39}\n",
      "{'loss': 0.5246, 'grad_norm': 6.651822566986084, 'learning_rate': 2.6397966594045027e-05, 'epoch': 1.42}\n",
      "{'loss': 0.527, 'grad_norm': 10.904626846313477, 'learning_rate': 2.6034858387799566e-05, 'epoch': 1.44}\n",
      "{'loss': 0.5968, 'grad_norm': 4.782588005065918, 'learning_rate': 2.5671750181554106e-05, 'epoch': 1.46}\n",
      "{'loss': 0.509, 'grad_norm': 15.141610145568848, 'learning_rate': 2.5308641975308646e-05, 'epoch': 1.48}\n",
      "{'loss': 0.472, 'grad_norm': 4.447677135467529, 'learning_rate': 2.4945533769063182e-05, 'epoch': 1.5}\n",
      "{'loss': 0.4201, 'grad_norm': 3.1215481758117676, 'learning_rate': 2.4582425562817722e-05, 'epoch': 1.53}\n",
      "{'loss': 0.4983, 'grad_norm': 18.265625, 'learning_rate': 2.421931735657226e-05, 'epoch': 1.55}\n",
      "{'loss': 0.5736, 'grad_norm': 7.295797824859619, 'learning_rate': 2.38562091503268e-05, 'epoch': 1.57}\n",
      "{'loss': 0.3624, 'grad_norm': 3.9163355827331543, 'learning_rate': 2.3493100944081338e-05, 'epoch': 1.59}\n",
      "{'loss': 0.7091, 'grad_norm': 38.323585510253906, 'learning_rate': 2.3129992737835877e-05, 'epoch': 1.61}\n",
      "{'loss': 0.4697, 'grad_norm': 10.630826950073242, 'learning_rate': 2.2766884531590417e-05, 'epoch': 1.63}\n",
      "{'loss': 0.5198, 'grad_norm': 9.900973320007324, 'learning_rate': 2.2403776325344953e-05, 'epoch': 1.66}\n",
      "{'loss': 0.4371, 'grad_norm': 5.677948474884033, 'learning_rate': 2.2040668119099493e-05, 'epoch': 1.68}\n",
      "{'loss': 0.4396, 'grad_norm': 17.25251579284668, 'learning_rate': 2.1677559912854033e-05, 'epoch': 1.7}\n",
      "{'loss': 0.3574, 'grad_norm': 10.3799467086792, 'learning_rate': 2.131445170660857e-05, 'epoch': 1.72}\n",
      "{'loss': 0.5181, 'grad_norm': 42.555328369140625, 'learning_rate': 2.095134350036311e-05, 'epoch': 1.74}\n",
      "{'loss': 0.5974, 'grad_norm': 6.347451210021973, 'learning_rate': 2.058823529411765e-05, 'epoch': 1.76}\n",
      "{'loss': 0.5099, 'grad_norm': 3.4661004543304443, 'learning_rate': 2.0225127087872185e-05, 'epoch': 1.79}\n",
      "{'loss': 0.431, 'grad_norm': 2.7249748706817627, 'learning_rate': 1.9862018881626725e-05, 'epoch': 1.81}\n",
      "{'loss': 0.4868, 'grad_norm': 10.127748489379883, 'learning_rate': 1.9498910675381264e-05, 'epoch': 1.83}\n",
      "{'loss': 0.4865, 'grad_norm': 2.491239070892334, 'learning_rate': 1.91358024691358e-05, 'epoch': 1.85}\n",
      "{'loss': 0.5123, 'grad_norm': 69.66596984863281, 'learning_rate': 1.877269426289034e-05, 'epoch': 1.87}\n",
      "{'loss': 0.4177, 'grad_norm': 40.859432220458984, 'learning_rate': 1.840958605664488e-05, 'epoch': 1.9}\n",
      "{'loss': 0.609, 'grad_norm': 41.53909683227539, 'learning_rate': 1.804647785039942e-05, 'epoch': 1.92}\n",
      "{'loss': 0.3907, 'grad_norm': 1.8822025060653687, 'learning_rate': 1.7683369644153956e-05, 'epoch': 1.94}\n",
      "{'loss': 0.5938, 'grad_norm': 10.976236343383789, 'learning_rate': 1.7320261437908496e-05, 'epoch': 1.96}\n",
      "{'loss': 0.597, 'grad_norm': 30.463804244995117, 'learning_rate': 1.6957153231663036e-05, 'epoch': 1.98}\n",
      "{'loss': 0.4853, 'grad_norm': 16.95435905456543, 'learning_rate': 1.6594045025417575e-05, 'epoch': 2.0}\n",
      "{'loss': 0.4403, 'grad_norm': 9.966254234313965, 'learning_rate': 1.6230936819172112e-05, 'epoch': 2.03}\n",
      "{'loss': 0.322, 'grad_norm': 3.5668458938598633, 'learning_rate': 1.586782861292665e-05, 'epoch': 2.05}\n",
      "{'loss': 0.2664, 'grad_norm': 46.50342559814453, 'learning_rate': 1.550472040668119e-05, 'epoch': 2.07}\n",
      "{'loss': 0.536, 'grad_norm': 10.974172592163086, 'learning_rate': 1.5141612200435731e-05, 'epoch': 2.09}\n",
      "{'loss': 0.4099, 'grad_norm': 25.946701049804688, 'learning_rate': 1.4778503994190269e-05, 'epoch': 2.11}\n",
      "{'loss': 0.3848, 'grad_norm': 2.8653745651245117, 'learning_rate': 1.4415395787944807e-05, 'epoch': 2.14}\n",
      "{'loss': 0.3783, 'grad_norm': 3.0505592823028564, 'learning_rate': 1.4052287581699347e-05, 'epoch': 2.16}\n",
      "{'loss': 0.3792, 'grad_norm': 12.780425071716309, 'learning_rate': 1.3689179375453886e-05, 'epoch': 2.18}\n",
      "{'loss': 0.2458, 'grad_norm': 34.50717544555664, 'learning_rate': 1.3326071169208426e-05, 'epoch': 2.2}\n",
      "{'loss': 0.3008, 'grad_norm': 147.63316345214844, 'learning_rate': 1.2962962962962962e-05, 'epoch': 2.22}\n",
      "{'loss': 0.6569, 'grad_norm': 7.358052730560303, 'learning_rate': 1.2599854756717502e-05, 'epoch': 2.24}\n",
      "{'loss': 0.477, 'grad_norm': 3.2159788608551025, 'learning_rate': 1.2236746550472042e-05, 'epoch': 2.27}\n",
      "{'loss': 0.3977, 'grad_norm': 177.1892547607422, 'learning_rate': 1.187363834422658e-05, 'epoch': 2.29}\n",
      "{'loss': 0.4533, 'grad_norm': 7.169249534606934, 'learning_rate': 1.151053013798112e-05, 'epoch': 2.31}\n",
      "{'loss': 0.3882, 'grad_norm': 38.8754768371582, 'learning_rate': 1.1147421931735658e-05, 'epoch': 2.33}\n",
      "{'loss': 0.4765, 'grad_norm': 54.54307556152344, 'learning_rate': 1.0784313725490197e-05, 'epoch': 2.35}\n",
      "{'loss': 0.3797, 'grad_norm': 33.53530502319336, 'learning_rate': 1.0421205519244735e-05, 'epoch': 2.37}\n",
      "{'loss': 0.4267, 'grad_norm': 5.151211738586426, 'learning_rate': 1.0058097312999275e-05, 'epoch': 2.4}\n",
      "{'loss': 0.3862, 'grad_norm': 14.38712215423584, 'learning_rate': 9.694989106753813e-06, 'epoch': 2.42}\n",
      "{'loss': 0.3141, 'grad_norm': 13.293513298034668, 'learning_rate': 9.331880900508353e-06, 'epoch': 2.44}\n",
      "{'loss': 0.45, 'grad_norm': 5.461938381195068, 'learning_rate': 8.968772694262891e-06, 'epoch': 2.46}\n",
      "{'loss': 0.1212, 'grad_norm': 3.6400983333587646, 'learning_rate': 8.60566448801743e-06, 'epoch': 2.48}\n",
      "{'loss': 0.4363, 'grad_norm': 2.7991814613342285, 'learning_rate': 8.242556281771969e-06, 'epoch': 2.51}\n",
      "{'loss': 0.3667, 'grad_norm': 8.063427925109863, 'learning_rate': 7.879448075526508e-06, 'epoch': 2.53}\n",
      "{'loss': 0.5956, 'grad_norm': 74.2648696899414, 'learning_rate': 7.5163398692810456e-06, 'epoch': 2.55}\n",
      "{'loss': 0.3, 'grad_norm': 14.414152145385742, 'learning_rate': 7.153231663035585e-06, 'epoch': 2.57}\n",
      "{'loss': 0.3981, 'grad_norm': 3.545001745223999, 'learning_rate': 6.790123456790123e-06, 'epoch': 2.59}\n",
      "{'loss': 0.3872, 'grad_norm': 1.3892173767089844, 'learning_rate': 6.427015250544663e-06, 'epoch': 2.61}\n",
      "{'loss': 0.4245, 'grad_norm': 1.808246374130249, 'learning_rate': 6.063907044299202e-06, 'epoch': 2.64}\n",
      "{'loss': 0.5035, 'grad_norm': 2.3417012691497803, 'learning_rate': 5.700798838053741e-06, 'epoch': 2.66}\n",
      "{'loss': 0.4099, 'grad_norm': 40.61250305175781, 'learning_rate': 5.33769063180828e-06, 'epoch': 2.68}\n",
      "{'loss': 0.378, 'grad_norm': 3.6719563007354736, 'learning_rate': 4.9745824255628185e-06, 'epoch': 2.7}\n",
      "{'loss': 0.4097, 'grad_norm': 8.5729398727417, 'learning_rate': 4.611474219317357e-06, 'epoch': 2.72}\n",
      "{'loss': 0.3288, 'grad_norm': 1.5114028453826904, 'learning_rate': 4.2483660130718954e-06, 'epoch': 2.75}\n",
      "{'loss': 0.4914, 'grad_norm': 11.092570304870605, 'learning_rate': 3.885257806826434e-06, 'epoch': 2.77}\n",
      "{'loss': 0.4776, 'grad_norm': 6.141273021697998, 'learning_rate': 3.5221496005809736e-06, 'epoch': 2.79}\n",
      "{'loss': 0.4141, 'grad_norm': 16.68025779724121, 'learning_rate': 3.159041394335512e-06, 'epoch': 2.81}\n",
      "{'loss': 0.4128, 'grad_norm': 4.867812633514404, 'learning_rate': 2.795933188090051e-06, 'epoch': 2.83}\n",
      "{'loss': 0.4154, 'grad_norm': 3.8215367794036865, 'learning_rate': 2.43282498184459e-06, 'epoch': 2.85}\n",
      "{'loss': 0.3666, 'grad_norm': 23.651613235473633, 'learning_rate': 2.0697167755991287e-06, 'epoch': 2.88}\n",
      "{'loss': 0.3657, 'grad_norm': 27.815637588500977, 'learning_rate': 1.7066085693536675e-06, 'epoch': 2.9}\n",
      "{'loss': 0.3736, 'grad_norm': 13.170270919799805, 'learning_rate': 1.3435003631082064e-06, 'epoch': 2.92}\n",
      "{'loss': 0.4548, 'grad_norm': 9.456463813781738, 'learning_rate': 9.80392156862745e-07, 'epoch': 2.94}\n",
      "{'loss': 0.4156, 'grad_norm': 2.687638282775879, 'learning_rate': 6.17283950617284e-07, 'epoch': 2.96}\n",
      "{'loss': 0.3279, 'grad_norm': 112.98597717285156, 'learning_rate': 2.541757443718228e-07, 'epoch': 2.98}\n",
      "{'train_runtime': 6613.0703, 'train_samples_per_second': 1.664, 'train_steps_per_second': 0.208, 'train_loss': 0.5137444956197025, 'epoch': 3.0}\n"
     ]
    },
    {
     "data": {
      "text/plain": [
       "TrainOutput(global_step=1377, training_loss=0.5137444956197025, metrics={'train_runtime': 6613.0703, 'train_samples_per_second': 1.664, 'train_steps_per_second': 0.208, 'train_loss': 0.5137444956197025, 'epoch': 3.0})"
      ]
     },
     "execution_count": 12,
     "metadata": {},
     "output_type": "execute_result"
    }
   ],
   "source": [
    "from transformers import Trainer, TrainingArguments\n",
    "\n",
    "training_args = TrainingArguments(\n",
    "    output_dir='./results',\n",
    "    num_train_epochs=3,\n",
    "    per_device_train_batch_size=8,\n",
    "    logging_dir='./logs',\n",
    "    logging_steps=10,\n",
    ")\n",
    "\n",
    "trainer = Trainer(\n",
    "    model=model,\n",
    "    args=training_args,\n",
    "    train_dataset=dataset['train'],\n",
    "    eval_dataset=dataset['validation']\n",
    ")\n",
    "\n",
    "trainer.train()\n"
   ]
  }
 ],
 "metadata": {
  "kernelspec": {
   "display_name": "Python 3",
   "language": "python",
   "name": "python3"
  },
  "language_info": {
   "codemirror_mode": {
    "name": "ipython",
    "version": 3
   },
   "file_extension": ".py",
   "mimetype": "text/x-python",
   "name": "python",
   "nbconvert_exporter": "python",
   "pygments_lexer": "ipython3",
   "version": "3.11.0"
  }
 },
 "nbformat": 4,
 "nbformat_minor": 2
}
